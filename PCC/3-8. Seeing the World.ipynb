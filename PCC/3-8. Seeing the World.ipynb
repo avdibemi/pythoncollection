{
 "cells": [
  {
   "cell_type": "markdown",
   "metadata": {
    "collapsed": true,
    "pycharm": {
     "name": "#%% md\n"
    }
   },
   "source": [
    "#### 3-8. Seeing the World: Think of at least five places in the world you’d like to visit\n",
    "\n"
   ],
   "outputs": [],
   "execution_count": 1
  },
  {
   "cell_type": "code",
   "execution_count": 5,
   "outputs": [],
   "source": [
    "# Store the locations in a list. Make sure the list is not in alphabetical order.\n",
    "\n",
    "world = ['germany', 'usa', 'france', 'azerbejdan','denmark']"
   ],
   "metadata": {
    "collapsed": false,
    "pycharm": {
     "name": "#%%\n"
    }
   }
  },
  {
   "cell_type": "code",
   "execution_count": 6,
   "outputs": [
    {
     "name": "stdout",
     "output_type": "stream",
     "text": [
      "['germany', 'usa', 'france', 'azerbejdan', 'denmark']\n"
     ]
    }
   ],
   "source": [
    "#Print your list in its original order. Don’t worry about printing the list neatly, just print it as a raw Python list\n",
    "\n",
    "print(world)\n"
   ],
   "metadata": {
    "collapsed": false,
    "pycharm": {
     "name": "#%%\n"
    }
   }
  },
  {
   "cell_type": "code",
   "execution_count": 7,
   "outputs": [
    {
     "name": "stdout",
     "output_type": "stream",
     "text": [
      "Python 3.9.5\n"
     ]
    }
   ],
   "source": [
    "!python --version #just checking the python version, because I changed the kernel"
   ],
   "metadata": {
    "collapsed": false,
    "pycharm": {
     "name": "#%%\n"
    }
   }
  },
  {
   "cell_type": "code",
   "execution_count": 8,
   "outputs": [
    {
     "name": "stdout",
     "output_type": "stream",
     "text": [
      "['azerbejdan', 'denmark', 'france', 'germany', 'usa']\n"
     ]
    }
   ],
   "source": [
    "#Use sorted() to print your list in alphabetical order without modifying the actual list\n",
    "\n",
    "print(sorted(world))"
   ],
   "metadata": {
    "collapsed": false,
    "pycharm": {
     "name": "#%%\n"
    }
   }
  },
  {
   "cell_type": "code",
   "execution_count": 9,
   "outputs": [
    {
     "name": "stdout",
     "output_type": "stream",
     "text": [
      "['germany', 'usa', 'france', 'azerbejdan', 'denmark']\n"
     ]
    }
   ],
   "source": [
    "#Show that your list is still in its original order by printing it.\n",
    "\n",
    "print(world)\n"
   ],
   "metadata": {
    "collapsed": false,
    "pycharm": {
     "name": "#%%\n"
    }
   }
  },
  {
   "cell_type": "code",
   "execution_count": 15,
   "outputs": [
    {
     "name": "stdout",
     "output_type": "stream",
     "text": [
      "['azerbejdan', 'denmark', 'france', 'germany', 'usa']\n"
     ]
    }
   ],
   "source": [
    "#Use sorted() to print your list in reverse alphabetical order without chang�ing the order of the original list\n",
    "\n",
    "print(sorted(reversed(world)))"
   ],
   "metadata": {
    "collapsed": false,
    "pycharm": {
     "name": "#%%\n"
    }
   }
  },
  {
   "cell_type": "code",
   "execution_count": 16,
   "outputs": [
    {
     "name": "stdout",
     "output_type": "stream",
     "text": [
      "['germany', 'usa', 'france', 'azerbejdan', 'denmark']\n"
     ]
    }
   ],
   "source": [
    "#Show that your list is still in its original order by printing it again\n",
    "\n",
    "print(world)"
   ],
   "metadata": {
    "collapsed": false,
    "pycharm": {
     "name": "#%%\n"
    }
   }
  },
  {
   "cell_type": "code",
   "execution_count": 17,
   "outputs": [
    {
     "name": "stdout",
     "output_type": "stream",
     "text": [
      "['denmark', 'azerbejdan', 'france', 'usa', 'germany']\n"
     ]
    }
   ],
   "source": [
    "#Use reverse() to change the order of your list. Print the list to show that its order has changed\n",
    "\n",
    "world.reverse()\n",
    "print(world)"
   ],
   "metadata": {
    "collapsed": false,
    "pycharm": {
     "name": "#%%\n"
    }
   }
  },
  {
   "cell_type": "code",
   "execution_count": 18,
   "outputs": [
    {
     "name": "stdout",
     "output_type": "stream",
     "text": [
      "['germany', 'usa', 'france', 'azerbejdan', 'denmark']\n"
     ]
    }
   ],
   "source": [
    "#Use reverse() to change the order of your list again. Print the list to show it’s back to its original order\n",
    "\n",
    "world.reverse()\n",
    "print(world)"
   ],
   "metadata": {
    "collapsed": false,
    "pycharm": {
     "name": "#%%\n"
    }
   }
  },
  {
   "cell_type": "code",
   "execution_count": 19,
   "outputs": [
    {
     "name": "stdout",
     "output_type": "stream",
     "text": [
      "['azerbejdan', 'denmark', 'france', 'germany', 'usa']\n"
     ]
    }
   ],
   "source": [
    "#Use sort() to change your list so it’s stored in alphabetical order. Print the list to show that its order has been changed\n",
    "\n",
    "world.sort()\n",
    "print(world)"
   ],
   "metadata": {
    "collapsed": false,
    "pycharm": {
     "name": "#%%\n"
    }
   }
  },
  {
   "cell_type": "code",
   "execution_count": 20,
   "outputs": [
    {
     "name": "stdout",
     "output_type": "stream",
     "text": [
      "['usa', 'germany', 'france', 'denmark', 'azerbejdan']\n"
     ]
    }
   ],
   "source": [
    "#Use sort() to change your list so it’s stored in reverse alphabetical order. Print the list to show that its order has changed\n",
    "world.sort(reverse=True)\n",
    "print(world)"
   ],
   "metadata": {
    "collapsed": false,
    "pycharm": {
     "name": "#%%\n"
    }
   }
  },
  {
   "cell_type": "code",
   "execution_count": null,
   "outputs": [],
   "source": [],
   "metadata": {
    "collapsed": false,
    "pycharm": {
     "name": "#%%\n"
    }
   }
  }
 ],
 "metadata": {
  "kernelspec": {
   "display_name": "Python 3",
   "language": "python",
   "name": "python3"
  },
  "language_info": {
   "codemirror_mode": {
    "name": "ipython",
    "version": 2
   },
   "file_extension": ".py",
   "mimetype": "text/x-python",
   "name": "python",
   "nbconvert_exporter": "python",
   "pygments_lexer": "ipython2",
   "version": "2.7.6"
  }
 },
 "nbformat": 4,
 "nbformat_minor": 0
}