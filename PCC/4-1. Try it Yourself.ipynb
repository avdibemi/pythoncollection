{
 "cells": [
  {
   "cell_type": "markdown",
   "metadata": {
    "collapsed": true,
    "pycharm": {
     "name": "#%% md\n"
    }
   },
   "source": [
    "4-1. Pizzas: Think of at least three kinds of your favorite pizza. Store these\n",
    "pizza names in a list, and then use a for loop to print the name of each pizza.\n",
    "\n",
    "•\t Modify your for loop to print a sentence using the name of the pizza\n",
    "instead of printing just the name of the pizza. For each pizza you should\n",
    "have one line of output containing a simple statement like I like pepperoni\n",
    "pizza.\n",
    "\n",
    "•\t Add a line at the end of your program, outside the for loop, that states\n",
    "how much you like pizza. The output should consist of three or more lines\n",
    "about the kinds of pizza you like and then an additional sentence, such as\n",
    "I really love pizza!\n"
   ]
  },
  {
   "cell_type": "code",
   "execution_count": 5,
   "outputs": [
    {
     "name": "stdout",
     "output_type": "stream",
     "text": [
      "I like Margarita pizza.\n",
      "\n",
      "I like 4Formaggi pizza.\n",
      "\n",
      "I like Napolitana pizza.\n",
      "\n",
      "I really love Napolitana pizza!\n"
     ]
    }
   ],
   "source": [
    "pizzas = ['margarita', '4formaggi', 'napolitana']\n",
    "for pizza in pizzas:\n",
    "    print(\"I like \" + pizza.title() + \" pizza.\\n\")\n",
    "\n",
    "print(\"I really love \" + pizza.title() + \" pizza!\")"
   ],
   "metadata": {
    "collapsed": false,
    "pycharm": {
     "name": "#%%\n"
    }
   }
  },
  {
   "cell_type": "markdown",
   "source": [
    "4-2. Animals: Think of at least three different animals that have a common characteristic. Store the names of these animals in a list, and then use a for loop to\n",
    "print out the name of each animal.\n",
    "\n",
    "•\t Modify your program to print a statement about each animal, such as\n",
    "A dog would make a great pet.\n",
    "\n",
    "•\t Add a line at the end of your program stating what these animals have in\n",
    "common. You could print a sentence such as Any of these animals would\n",
    "make a great pet!\n"
   ],
   "metadata": {
    "collapsed": false,
    "pycharm": {
     "name": "#%% md\n"
    }
   }
  },
  {
   "cell_type": "code",
   "execution_count": 10,
   "outputs": [
    {
     "name": "stdout",
     "output_type": "stream",
     "text": [
      "A Donkey would make a great pet\n",
      "\n",
      "\n",
      "A Monkey would make a great pet\n",
      "\n",
      "\n",
      "A Rabbit would make a great pet\n",
      "\n",
      "\n",
      "Any of these animals would make a great pet!\n"
     ]
    }
   ],
   "source": [
    "animals = ['donkey', 'monkey', 'rabbit']\n",
    "for animal in animals:\n",
    "    print(\"A \" + animal.title() + \" would make a great pet\")\n",
    "    print(\"\\n\")\n",
    "\n",
    "print(\"Any of these animals would make a great pet!\")"
   ],
   "metadata": {
    "collapsed": false,
    "pycharm": {
     "name": "#%%\n"
    }
   }
  },
  {
   "cell_type": "code",
   "execution_count": null,
   "outputs": [],
   "source": [],
   "metadata": {
    "collapsed": false,
    "pycharm": {
     "name": "#%%\n"
    }
   }
  }
 ],
 "metadata": {
  "kernelspec": {
   "name": "adams_env_3.9",
   "language": "python",
   "display_name": "ADAMS_env_3.9"
  },
  "language_info": {
   "codemirror_mode": {
    "name": "ipython",
    "version": 2
   },
   "file_extension": ".py",
   "mimetype": "text/x-python",
   "name": "python",
   "nbconvert_exporter": "python",
   "pygments_lexer": "ipython2",
   "version": "2.7.6"
  }
 },
 "nbformat": 4,
 "nbformat_minor": 0
}