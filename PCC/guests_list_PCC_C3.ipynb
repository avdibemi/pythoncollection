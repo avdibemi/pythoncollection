{
 "cells": [
  {
   "cell_type": "code",
   "execution_count": 1,
   "metadata": {
    "collapsed": true
   },
   "outputs": [
    {
     "name": "stdout",
     "output_type": "stream",
     "text": [
      "Dear Melina you are invited to dinner.\n",
      "Dear Samir you are invited to dinner.\n",
      "Dear Hana you are invited to dinner.\n",
      "Dear Damir you are invited to dinner.\n"
     ]
    }
   ],
   "source": [
    "guests_list = ['melina', 'samir', 'hana', 'damir']\n",
    "invitation_0 = \"Dear \" +guests_list[0].title() + \" you are invited to dinner.\"\n",
    "invitation_01 = \"Dear \" +guests_list[1].title() + \" you are invited to dinner.\"\n",
    "invitation_02 = \"Dear \" +guests_list[2].title() + \" you are invited to dinner.\"\n",
    "invitation_03 = \"Dear \" +guests_list[3].title() + \" you are invited to dinner.\"\n",
    "print(invitation_0)\n",
    "print(invitation_01)\n",
    "print(invitation_02)\n",
    "print(invitation_03)"
   ]
  },
  {
   "cell_type": "code",
   "execution_count": 10,
   "outputs": [
    {
     "name": "stdout",
     "output_type": "stream",
     "text": [
      "['melina', 'samir', 'hana', 'damir']\n",
      "['melina', 'samir', 'damir']\n",
      "['melina', 'samir', 'emina', 'damir']\n",
      "Hana\n"
     ]
    }
   ],
   "source": [
    "guests_list = ['melina', 'samir', 'hana', 'damir']\n",
    "print(guests_list)\n",
    "cant_make_it = 'hana'\n",
    "guests_list.remove(cant_make_it)\n",
    "print(guests_list)\n",
    "guests_list.insert(2,'emina')\n",
    "print(guests_list)\n",
    "print(cant_make_it.title())"
   ],
   "metadata": {
    "collapsed": false,
    "pycharm": {
     "name": "#%%\n"
    }
   }
  },
  {
   "cell_type": "code",
   "execution_count": 11,
   "outputs": [
    {
     "name": "stdout",
     "output_type": "stream",
     "text": [
      "['melina', 'samir', 'emina', 'damir']\n",
      "Dear Melina you are invited to dinner.\n",
      "Dear Samir you are invited to dinner.\n",
      "Dear Emina you are invited to dinner.\n",
      "Dear Damir you are invited to dinner.\n"
     ]
    }
   ],
   "source": [
    "print(guests_list)\n",
    "invitation_0 = \"Dear \" +guests_list[0].title() + \" you are invited to dinner.\"\n",
    "invitation_01 = \"Dear \" +guests_list[1].title() + \" you are invited to dinner.\"\n",
    "invitation_02 = \"Dear \" +guests_list[2].title() + \" you are invited to dinner.\"\n",
    "invitation_03 = \"Dear \" +guests_list[3].title() + \" you are invited to dinner.\"\n",
    "print(invitation_0)\n",
    "print(invitation_01)\n",
    "print(invitation_02)\n",
    "print(invitation_03)"
   ],
   "metadata": {
    "collapsed": false,
    "pycharm": {
     "name": "#%%\n"
    }
   }
  },
  {
   "cell_type": "code",
   "execution_count": 2,
   "outputs": [
    {
     "name": "stdout",
     "output_type": "stream",
     "text": [
      "Python 3.7.9\n"
     ]
    }
   ],
   "source": [
    "!python --version"
   ],
   "metadata": {
    "collapsed": false,
    "pycharm": {
     "name": "#%%\n"
    }
   }
  },
  {
   "cell_type": "code",
   "execution_count": null,
   "outputs": [],
   "source": [],
   "metadata": {
    "collapsed": false,
    "pycharm": {
     "name": "#%%\n"
    }
   }
  }
 ],
 "metadata": {
  "kernelspec": {
   "name": "pycharm-2d31c25f",
   "language": "python",
   "display_name": "PyCharm (02 Excercises_GitHub)"
  },
  "language_info": {
   "codemirror_mode": {
    "name": "ipython",
    "version": 2
   },
   "file_extension": ".py",
   "mimetype": "text/x-python",
   "name": "python",
   "nbconvert_exporter": "python",
   "pygments_lexer": "ipython2",
   "version": "2.7.6"
  }
 },
 "nbformat": 4,
 "nbformat_minor": 0
}